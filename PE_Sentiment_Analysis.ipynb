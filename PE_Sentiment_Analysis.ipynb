{
 "cells": [
  {
   "cell_type": "markdown",
   "id": "7619836c",
   "metadata": {},
   "source": [
    "Imports"
   ]
  },
  {
   "cell_type": "code",
   "execution_count": 191,
   "id": "b37c7510",
   "metadata": {},
   "outputs": [],
   "source": [
    "import requests\n",
    "from bs4 import BeautifulSoup\n",
    "import pandas as pd\n",
    "import json\n",
    "from pathlib import Path  \n",
    "import matplotlib.pyplot as plt\n",
    "import spacy\n",
    "import nltk\n",
    "from nltk.sentiment.vader import SentimentIntensityAnalyzer\n",
    "from scipy.stats import spearmanr, pearsonr\n",
    "import seaborn as sns\n",
    "from sklearn.metrics import confusion_matrix, classification_report\n",
    "import openai\n",
    "from openai import OpenAI\n",
    "import time\n",
    "from sklearn.feature_extraction.text import TfidfVectorizer\n",
    "from collections import defaultdict\n",
    "import numpy as np\n",
    "import os\n",
    "import random"
   ]
  },
  {
   "cell_type": "code",
   "execution_count": null,
   "id": "c6bd9928",
   "metadata": {},
   "outputs": [],
   "source": [
    "nltk.download('vader_lexicon')\n"
   ]
  },
  {
   "cell_type": "markdown",
   "id": "366df22f",
   "metadata": {},
   "source": [
    "Creating the Dataset (or importing it)"
   ]
  },
  {
   "cell_type": "code",
   "execution_count": 208,
   "id": "64c592df",
   "metadata": {},
   "outputs": [],
   "source": [
    "client = openai.Client(api_key=\"Your API Key\")\n",
    "file_path = \"./reviews_and_summaries.csv\"\n",
    "prompt_summaries = \"Write a very brief summary the following book review. When reading the summary you have to be able to see the sentiment of the reviewer towards the book. The summary has to be done using formal writing, without the use of emojis. The reviewer might have included quotes or things that happen in the book: you should not include in the summary those, you just have to make sure in the summary is taken into account the sentiment evoked in this parts of the review. Emphasize in using positive words if the review is positive, neutral words if it is neutral and negative if it is negative. Do not use words that individually might express a different sentiment from the sentence (for example do not use terrifyingly good, as terrifyingly can be considered a negative word by itself).\"     \n",
    "\n",
    "def load_or_create_dataset(file_path, create_new = False, generate_summaries = True, prompt = prompt_summaries):\n",
    "    \n",
    "    if os.path.isfile(file_path) and not (create_new):\n",
    "        \n",
    "        # Load the dataset\n",
    "        dataset = pd.read_csv(file_path)\n",
    "        print(\"Dataset loaded from file.\")\n",
    "        \n",
    "    else:\n",
    "        \n",
    "        #Web scrapping GoodReads to obtain the 30 top reviews of the 50 most popular books of 2023\n",
    "        url = \"https://www.goodreads.com/book/most_read?category=all&country=--&duration=y\"\n",
    "        info_reviews = web_scrapping(url)\n",
    "        dataset = pd.DataFrame(info_reviews)\n",
    "        \n",
    "        #Dropping rows that contain NaNs values, sometimes might happend due to some web scrapping request failing\n",
    "        dataset.dropna(inplace=True)\n",
    "        \n",
    "        Subsampling the reviews with the best rating in order to balance the classes a little bit more\n",
    "        category_counts = dataset['Rating'].value_counts()\n",
    "        filtered_rows = dataset[dataset['Rating'] == 5]\n",
    "        rows_to_drop = filtered_rows.sample(n=category_counts.values[0]-category_counts.values[1], random_state=99)  # Adjust random_state as needed\n",
    "        dataset = dataset.drop(rows_to_drop.index)\n",
    "        \n",
    "        if (generate_summaries):\n",
    "            data = dataset[\"Reviews\"].values\n",
    "            summaries = ChatGPTPrompting(prompt,data)\n",
    "\n",
    "            #We add to the dataset the \n",
    "            dataset[\"Review_Summaries\"] = response_list\n",
    "\n",
    "            #Due to token limitations, some of the summaries could not be performed\n",
    "            dataset.dropna(inplace=True) \n",
    "        \n",
    "        if (create_new):\n",
    "            dataset.to_csv(filepath)  \n",
    "            \n",
    "    return dataset"
   ]
  },
  {
   "cell_type": "code",
   "execution_count": 200,
   "id": "03f1e267",
   "metadata": {
    "scrolled": false
   },
   "outputs": [],
   "source": [
    "def scrape_book_info(url):\n",
    "    try:\n",
    "        response = requests.get(url)\n",
    "        response.raise_for_status()\n",
    "        soup = BeautifulSoup(response.text, 'html.parser')\n",
    "        # Extracting description\n",
    "        review_content = soup.find_all('section', class_='ReviewText__content')\n",
    "        review_list = []\n",
    "        review_card = soup.find_all('article', class_='ReviewCard')\n",
    "        rating_list = []\n",
    "        for card,review in zip(review_card,review_content):\n",
    "            card = str(card)\n",
    "            if \"span aria-label\" in card:\n",
    "                card_soup = BeautifulSoup(card, 'html.parser')\n",
    "                rating_span = card_soup.find('span', {'class': 'RatingStars__small'})\n",
    "                rating_list.append(int(rating_span['aria-label'][7]))\n",
    "                review_text = review.get_text(strip=True)\n",
    "                review_list.append(review_text)\n",
    "             \n",
    "            \n",
    "        return review_list,rating_list\n",
    "\n",
    "    except requests.exceptions.RequestException as e:\n",
    "        print(f\"Error fetching data from {url}: {e}\")\n",
    "        return None, None\n",
    "\n",
    "\n",
    "def web_scrapping(url):\n",
    "    book_list = []\n",
    "\n",
    "    url = \"https://www.goodreads.com/book/most_read?category=all&country=--&duration=y\"\n",
    "    response_web = requests.get(url)\n",
    "\n",
    "    if response_web.status_code == 200:\n",
    "        soup = BeautifulSoup(response_web.text, 'html.parser')\n",
    "        # Find the script tag containing the JSON data with book information\n",
    "        book_links = soup.find_all('a', class_='bookTitle', itemprop='url')\n",
    "        for link in book_links:\n",
    "            book_name = link.find('span', itemprop='name').get_text(strip=True)\n",
    "            book_href = link['href']\n",
    "            reviews,rating = scrape_book_info(\"https://www.goodreads.com\"+book_href)\n",
    "            for rev,rat in zip(reviews,rating):\n",
    "                book_list.append({\n",
    "                    'Title': book_name,\n",
    "                    'Reviews': rev,\n",
    "                    'Rating': rat\n",
    "                })\n",
    "    else:\n",
    "        print(f\"Failed to retrieve data. Status code: {response.status_code}\")\n",
    "    return book_list\n",
    "    \n",
    "\n",
    "    \n"
   ]
  },
  {
   "cell_type": "code",
   "execution_count": 188,
   "id": "b34ecaf7",
   "metadata": {},
   "outputs": [],
   "source": [
    "def ChatGPTPrompting(prompt,data):\n",
    "    response_list = []\n",
    "\n",
    "    for text in data:\n",
    "        try:\n",
    "            if (len(text) > 10000):\n",
    "                text = text[:10000]\n",
    "            completion = client.chat.completions.create(\n",
    "                    model=\"gpt-3.5-turbo\",\n",
    "                    messages=[\n",
    "                        {\"role\": \"system\", \"content\":  prompt},     \n",
    "                        {\"role\": \"user\", \"content\": text}\n",
    "                    ]\n",
    "                )\n",
    "            response = completion.choices[0].message.content\n",
    "            response_list.append(response)\n",
    "        except:\n",
    "            response_list.append(None)\n",
    "            continue\n",
    "            \n",
    "    return response_list\n"
   ]
  },
  {
   "cell_type": "markdown",
   "id": "daf4d4d9",
   "metadata": {},
   "source": [
    "Exploratory Data Analysis and Preprocessing of the Dataframe created only with the webscrapping"
   ]
  },
  {
   "cell_type": "code",
   "execution_count": 209,
   "id": "7698ec12",
   "metadata": {},
   "outputs": [],
   "source": [
    "dataset_web = load_or_create_dataset(file_path, generate_summaries = False)"
   ]
  },
  {
   "cell_type": "code",
   "execution_count": 212,
   "id": "b7551e13",
   "metadata": {},
   "outputs": [
    {
     "name": "stdout",
     "output_type": "stream",
     "text": [
      "Title      0\n",
      "Reviews    0\n",
      "Rating     0\n",
      "dtype: int64\n"
     ]
    }
   ],
   "source": [
    "nans_per_column = dataset_web.isna().sum()\n",
    "print(nans_per_column)\n",
    "dataset_web.dropna(inplace=True)"
   ]
  },
  {
   "cell_type": "markdown",
   "id": "416e0fd5",
   "metadata": {},
   "source": [
    "We can see that the dataset created is imbalanced, most of the reviews are very positive. "
   ]
  },
  {
   "cell_type": "code",
   "execution_count": 213,
   "id": "e21059c4",
   "metadata": {},
   "outputs": [
    {
     "data": {
      "image/png": "[encoded data removed]",
      "text/plain": [
       "<Figure size 640x480 with 1 Axes>"
      ]
     },
     "metadata": {},
     "output_type": "display_data"
    }
   ],
   "source": [
    "category_counts = dataset_web['Rating'].value_counts()\n",
    "\n",
    "# Plot the counts\n",
    "category_counts.plot(kind='bar', color='skyblue', edgecolor='black')\n",
    "\n",
    "# Set plot labels and title\n",
    "plt.xlabel('Category')\n",
    "plt.ylabel('Count')\n",
    "plt.title('Count of Each Category')\n",
    "\n",
    "# Show the plot\n",
    "plt.show()"
   ]
  },
  {
   "cell_type": "markdown",
   "id": "3c6772f3",
   "metadata": {},
   "source": [
    "We undersample this number to the same as the ratings with 1. This is to make easier the evaluation of the results, as there is no training there wouldn't be overfitting."
   ]
  },
  {
   "cell_type": "code",
   "execution_count": 217,
   "id": "d5a8e164",
   "metadata": {},
   "outputs": [
    {
     "data": {
      "image/png": "[encoded data removed]",
      "text/plain": [
       "<Figure size 640x480 with 1 Axes>"
      ]
     },
     "metadata": {},
     "output_type": "display_data"
    }
   ],
   "source": [
    "filtered_rows = dataset_web[dataset_web['Rating'] == 5]\n",
    "rows_to_drop = filtered_rows.sample(n=category_counts.values[0]-category_counts.values[1], random_state=99)  # Adjust random_state as needed\n",
    "dataset_web = dataset_web.drop(rows_to_drop.index)\n",
    "\n",
    "category_counts = dataset_web['Rating'].value_counts()\n",
    "\n",
    "# Plot the counts\n",
    "category_counts.plot(kind='bar', color='skyblue', edgecolor='black')\n",
    "\n",
    "# Set plot labels and title\n",
    "plt.xlabel('Category')\n",
    "plt.ylabel('Count')\n",
    "plt.title('Count of Each Category')\n",
    "\n",
    "# Show the plot\n",
    "plt.show()"
   ]
  },
  {
   "cell_type": "markdown",
   "id": "d4b1bf08",
   "metadata": {},
   "source": [
    "Now it is less imbalanced."
   ]
  },
  {
   "cell_type": "markdown",
   "id": "b1b35a03",
   "metadata": {},
   "source": [
    "### Tokenazing Functions"
   ]
  },
  {
   "cell_type": "code",
   "execution_count": 248,
   "id": "49d77cda",
   "metadata": {},
   "outputs": [],
   "source": [
    "nlp = spacy.load('en_core_web_sm')\n",
    "\n",
    "def text_preprocesser_VADER(text):\n",
    "    doc = nlp(text)\n",
    "    sentence_tokenized = []\n",
    "    for sent in doc.sents:\n",
    "        tokens = [token.lemma_ for token in sent if not token.is_stop]\n",
    "        sentence_tokenized.append(tokens)\n",
    "    return sentence_tokenized\n",
    "\n",
    "\n",
    "def text_preprocesser(text):\n",
    "    doc = nlp(text)\n",
    "    tokens = [token.lemma_ for token in doc if not token.is_stop]\n",
    "    return tokens\n"
   ]
  },
  {
   "cell_type": "markdown",
   "id": "312679a9",
   "metadata": {},
   "source": [
    "### VADER Sentiment Classifier"
   ]
  },
  {
   "cell_type": "code",
   "execution_count": 249,
   "id": "e8d1d1b1",
   "metadata": {},
   "outputs": [],
   "source": [
    "sia= SentimentIntensityAnalyzer()\n",
    "\n",
    "def Vader_SC(text_tokens):\n",
    "    SentimentResult = 0.0\n",
    "    for sentence_tokens in text_tokens:\n",
    "        vs = sia.polarity_scores((\" \").join(sentence_tokens))\n",
    "        SentimentResult += vs[\"compound\"]\n",
    "    score = SentimentResult/(len(text_tokens))\n",
    "    if(score > 0.7):\n",
    "        rating = 5\n",
    "    elif(score > 0.2):\n",
    "        rating = 4\n",
    "    elif(score > -0.2):\n",
    "        rating = 3\n",
    "    elif(score > -0.7):\n",
    "        rating = 2\n",
    "    else:\n",
    "        rating = 1\n",
    "    return rating,score"
   ]
  },
  {
   "cell_type": "code",
   "execution_count": 250,
   "id": "5dce2559",
   "metadata": {},
   "outputs": [],
   "source": [
    "def VADER_Classifier(data):\n",
    "    \n",
    "    preprocessed_text = []\n",
    "    for review in data:\n",
    "        preprocessed_text.append(text_preprocesser_VADER(review))\n",
    "    results = [Vader_SC(text) for text in preprocessed_text]\n",
    "    ratings = []\n",
    "    scores = []\n",
    "    for res in results:\n",
    "        ratings.append(res[0])\n",
    "        scores.append(res[1])\n",
    "    return ratings,scores"
   ]
  },
  {
   "cell_type": "code",
   "execution_count": 224,
   "id": "d8fcda8f",
   "metadata": {},
   "outputs": [],
   "source": [
    "def Accuracy_Score(predicted_rating,real_ratings):\n",
    "    acc = sum(predicted_rating == real_ratings)/len(real_ratings)\n",
    "    print(acc)\n"
   ]
  },
  {
   "cell_type": "markdown",
   "id": "5beb0b6e",
   "metadata": {},
   "source": [
    "#### Results of VADER on the original Reviews"
   ]
  },
  {
   "cell_type": "markdown",
   "id": "f69f8a78",
   "metadata": {},
   "source": [
    "First of all we call at the complete dataset if not done yet, or we create it in case is needed. Summaries can be created on this step if the dataset called is not the complete, or after perforimg the classification on the original reviews."
   ]
  },
  {
   "cell_type": "code",
   "execution_count": 251,
   "id": "edd520bf",
   "metadata": {},
   "outputs": [
    {
     "name": "stdout",
     "output_type": "stream",
     "text": [
      "Dataset loaded from file.\n"
     ]
    }
   ],
   "source": [
    "prompt_summaries = \"Write a very brief summary the following book review. When reading the summary you have to be able to see the sentiment of the reviewer towards the book. The summary has to be done using formal writing, without the use of emojis. The reviewer might have included quotes or things that happen in the book: you should not include in the summary those, you just have to make sure in the summary is taken into account the sentiment evoked in this parts of the review. Emphasize in using positive words if the review is positive, neutral words if it is neutral and negative if it is negative. Do not use words that individually might express a different sentiment from the sentence (for example do not use terrifyingly good, as terrifyingly can be considered a negative word by itself).\"     \n",
    "\n",
    "sentiment_analysis_df = load_or_create_dataset(file_path, generate_summaries = True, prompt = prompt_summaries)"
   ]
  },
  {
   "cell_type": "markdown",
   "id": "5210f811",
   "metadata": {},
   "source": [
    "We first look at the accuracy, we can see that is not great"
   ]
  },
  {
   "cell_type": "code",
   "execution_count": 252,
   "id": "f4a87cb3",
   "metadata": {},
   "outputs": [
    {
     "name": "stdout",
     "output_type": "stream",
     "text": [
      "0.2112321877619447\n"
     ]
    }
   ],
   "source": [
    "data = sentiment_analysis_df[\"Reviews\"].values\n",
    "predicted_ratings, score = VADER_Classifier(data)\n",
    "real_ratings = sentiment_analysis_df[\"Rating\"].values\n",
    "\n",
    "Accuracy_Score(predicted_ratings,real_ratings)"
   ]
  },
  {
   "cell_type": "markdown",
   "id": "28dd910b",
   "metadata": {},
   "source": [
    "VADER predicts a continuos value between -1 and 1, so the accuracy does no tell that much about how well it predicts, since we have arbitrarely decided the threshold between sentiments. Correlations Coefficients will tell us better whether is giving to positive comments positive values and negative comments negative values."
   ]
  },
  {
   "cell_type": "code",
   "execution_count": 253,
   "id": "9d70e25a",
   "metadata": {},
   "outputs": [
    {
     "name": "stdout",
     "output_type": "stream",
     "text": [
      "Spearman Rank Order Correlation Coefficient (SROCC): 0.3329517444853972\n",
      "Pearson Linear Correlation Coefficient (PLCC): 0.3100673392789148\n"
     ]
    }
   ],
   "source": [
    "# Spearman Rank Order Correlation Coefficient (SROCC)\n",
    "srocc, _ = spearmanr(score, real_ratings)\n",
    "print(\"Spearman Rank Order Correlation Coefficient (SROCC):\", srocc)\n",
    "\n",
    "# Pearson Linear Correlation Coefficient (PLCC)\n",
    "plcc, _ = pearsonr(score, real_ratings)\n",
    "print(\"Pearson Linear Correlation Coefficient (PLCC):\", plcc)"
   ]
  },
  {
   "cell_type": "markdown",
   "id": "123331c1",
   "metadata": {},
   "source": [
    "We can see that the correlation value is positive, so it is giving a decent sentiment score to each review, but it could be way better. We will look also at the precision,recall and f1-score and also at the confussion matrix to see if its classifying mistakes make sense."
   ]
  },
  {
   "cell_type": "code",
   "execution_count": 254,
   "id": "b435013a",
   "metadata": {
    "scrolled": true
   },
   "outputs": [
    {
     "name": "stdout",
     "output_type": "stream",
     "text": [
      "              precision    recall  f1-score   support\n",
      "\n",
      "           1       0.57      0.01      0.03       284\n",
      "           2       0.10      0.05      0.07       177\n",
      "           3       0.15      0.60      0.24       177\n",
      "           4       0.33      0.47      0.39       273\n",
      "           5       0.31      0.02      0.03       282\n",
      "\n",
      "    accuracy                           0.21      1193\n",
      "   macro avg       0.29      0.23      0.15      1193\n",
      "weighted avg       0.32      0.21      0.15      1193\n",
      "\n"
     ]
    },
    {
     "data": {
      "image/png": "[encoded data removed]",
      "text/plain": [
       "<Figure size 640x480 with 1 Axes>"
      ]
     },
     "metadata": {},
     "output_type": "display_data"
    }
   ],
   "source": [
    "conf_matrix = confusion_matrix(real_ratings, predicted_ratings)\n",
    "sns.heatmap(conf_matrix, annot=True, fmt='d', cmap='Blues', cbar=False)\n",
    "\n",
    "report = classification_report(real_ratings, predicted_ratings)\n",
    "print(report)"
   ]
  },
  {
   "cell_type": "markdown",
   "id": "886b2809",
   "metadata": {},
   "source": [
    "#### Results of Zero-shot SC with ChatGPT 3.5 on the original Reviews"
   ]
  },
  {
   "cell_type": "code",
   "execution_count": 259,
   "id": "8700cad3",
   "metadata": {},
   "outputs": [],
   "source": [
    "prompt = \"What is the sentiment of the following text? Please respond with 5 if it is very positive', 4 if it is a bit positive, 3 if it is neutral, 2 if it is a bit negative or 1 if it is very negative'. ONLY ANSWER WITH A NON DECIMAL NUMBER. If the review only provides the number of the rating, return the number. If it is decimal, return the truncated number. If there is no text to perform sentiment analysis, answer with ONLY a random integer between 1 and 5.\"    \n",
    "data = sentiment_analysis_df[\"Reviews\"].values\n",
    "predicted_sentiment_gpt = ChatGPTPrompting(prompt,data)\n",
    "\n",
    "real_ratings = sentiment_analysis_df_new[\"Rating\"].values\n",
    "predicted_ratings = []\n",
    "for response in predicted_sentiment_gpt:\n",
    "    try:\n",
    "        predicted_ratings.append(int(float(response)))\n",
    "    except:\n",
    "        predicted_ratings.append(random.randrange(1, 6))\n",
    "        continue\n",
    "    \n",
    "    "
   ]
  },
  {
   "cell_type": "markdown",
   "id": "7bdd9e43",
   "metadata": {},
   "source": [
    "We first look at the accuracy"
   ]
  },
  {
   "cell_type": "code",
   "execution_count": 260,
   "id": "653933a4",
   "metadata": {},
   "outputs": [
    {
     "name": "stdout",
     "output_type": "stream",
     "text": [
      "0.5523889354568315\n"
     ]
    }
   ],
   "source": [
    "Accuracy_Score(predicted_ratings,real_ratings)"
   ]
  },
  {
   "cell_type": "markdown",
   "id": "c403dade",
   "metadata": {},
   "source": [
    "Like before, we look at the correlation coefficients"
   ]
  },
  {
   "cell_type": "code",
   "execution_count": 264,
   "id": "0c09a794",
   "metadata": {},
   "outputs": [
    {
     "name": "stdout",
     "output_type": "stream",
     "text": [
      "Spearman Rank Order Correlation Coefficient (SROCC): 0.6646314041891861\n",
      "Pearson Linear Correlation Coefficient (PLCC): 0.6527309439840877\n"
     ]
    }
   ],
   "source": [
    "srocc, _ = spearmanr(predicted_ratings, real_ratings)\n",
    "print(\"Spearman Rank Order Correlation Coefficient (SROCC):\", srocc)\n",
    "\n",
    "\n",
    "# Pearson Linear Correlation Coefficient (PLCC)\n",
    "plcc, _ = pearsonr(predicted_ratings, real_ratings)\n",
    "print(\"Pearson Linear Correlation Coefficient (PLCC):\", plcc)\n"
   ]
  },
  {
   "cell_type": "markdown",
   "id": "3bc3ba21",
   "metadata": {},
   "source": [
    "Finally we look at the confusion matrix and the precision, recall and f1-score of each sentiment class"
   ]
  },
  {
   "cell_type": "code",
   "execution_count": 262,
   "id": "9c572f90",
   "metadata": {},
   "outputs": [
    {
     "name": "stdout",
     "output_type": "stream",
     "text": [
      "              precision    recall  f1-score   support\n",
      "\n",
      "           1       0.62      0.79      0.70       284\n",
      "           2       0.36      0.50      0.42       177\n",
      "           3       0.35      0.15      0.21       177\n",
      "           4       0.65      0.37      0.47       273\n",
      "           5       0.61      0.77      0.68       282\n",
      "\n",
      "    accuracy                           0.55      1193\n",
      "   macro avg       0.52      0.52      0.50      1193\n",
      "weighted avg       0.55      0.55      0.53      1193\n",
      "\n"
     ]
    },
    {
     "data": {
      "image/png": "[encoded data removed]",
      "text/plain": [
       "<Figure size 640x480 with 1 Axes>"
      ]
     },
     "metadata": {},
     "output_type": "display_data"
    }
   ],
   "source": [
    "conf_matrix = confusion_matrix(real_ratings, predicted_ratings)\n",
    "sns.heatmap(conf_matrix, annot=True, fmt='d', cmap='Blues', cbar=False)\n",
    "\n",
    "report = classification_report(real_ratings, predicted_ratings)\n",
    "print(report)"
   ]
  },
  {
   "cell_type": "markdown",
   "id": "f2e1a22e",
   "metadata": {},
   "source": [
    "## Results of VADER on the summaries generated by prompt engineering"
   ]
  },
  {
   "cell_type": "markdown",
   "id": "3e78c99a",
   "metadata": {},
   "source": [
    "First the Accuracy"
   ]
  },
  {
   "cell_type": "code",
   "execution_count": 263,
   "id": "bf5ea6e9",
   "metadata": {},
   "outputs": [
    {
     "name": "stdout",
     "output_type": "stream",
     "text": [
      "0.32774518021793797\n"
     ]
    }
   ],
   "source": [
    "data = sentiment_analysis_df[\"Review_Summaries\"].values\n",
    "predicted_ratings, score = VADER_Classifier(data)\n",
    "real_ratings = sentiment_analysis_df[\"Rating\"].values\n",
    "\n",
    "Accuracy_Score(predicted_ratings,real_ratings)"
   ]
  },
  {
   "cell_type": "markdown",
   "id": "feb17acd",
   "metadata": {},
   "source": [
    "Correlation coefficients"
   ]
  },
  {
   "cell_type": "code",
   "execution_count": 265,
   "id": "662bcd23",
   "metadata": {},
   "outputs": [
    {
     "name": "stdout",
     "output_type": "stream",
     "text": [
      "Spearman Rank Order Correlation Coefficient (SROCC): 0.6854320867151016\n",
      "Pearson Linear Correlation Coefficient (PLCC): 0.6825062197060913\n"
     ]
    }
   ],
   "source": [
    "# Spearman Rank Order Correlation Coefficient (SROCC)\n",
    "srocc, _ = spearmanr(score, real_ratings)\n",
    "print(\"Spearman Rank Order Correlation Coefficient (SROCC):\", srocc)\n",
    "\n",
    "# Pearson Linear Correlation Coefficient (PLCC)\n",
    "plcc, _ = pearsonr(score, real_ratings)\n",
    "print(\"Pearson Linear Correlation Coefficient (PLCC):\", plcc)"
   ]
  },
  {
   "cell_type": "markdown",
   "id": "e645cf18",
   "metadata": {},
   "source": [
    "Finally we look at the confusion matrix and the precision, recall and f1-score of each sentiment class"
   ]
  },
  {
   "cell_type": "code",
   "execution_count": 266,
   "id": "1400bb0e",
   "metadata": {},
   "outputs": [
    {
     "name": "stdout",
     "output_type": "stream",
     "text": [
      "              precision    recall  f1-score   support\n",
      "\n",
      "           1       0.58      0.09      0.16       284\n",
      "           2       0.25      0.36      0.29       177\n",
      "           3       0.24      0.42      0.31       177\n",
      "           4       0.37      0.65      0.47       273\n",
      "           5       0.48      0.18      0.26       282\n",
      "\n",
      "    accuracy                           0.33      1193\n",
      "   macro avg       0.38      0.34      0.30      1193\n",
      "weighted avg       0.41      0.33      0.30      1193\n",
      "\n"
     ]
    },
    {
     "data": {
      "image/png": "[encoded data removed]",
      "text/plain": [
       "<Figure size 640x480 with 1 Axes>"
      ]
     },
     "metadata": {},
     "output_type": "display_data"
    }
   ],
   "source": [
    "conf_matrix = confusion_matrix(real_ratings, predicted_ratings)\n",
    "sns.heatmap(conf_matrix, annot=True, fmt='d', cmap='Blues', cbar=False)\n",
    "\n",
    "report = classification_report(real_ratings, predicted_ratings)\n",
    "print(report)"
   ]
  },
  {
   "cell_type": "markdown",
   "id": "25ad6d0e",
   "metadata": {},
   "source": [
    "## Results of Zero-shot SC with ChatGPT 3.5 on the summaries generated by prompt engineering"
   ]
  },
  {
   "cell_type": "code",
   "execution_count": 267,
   "id": "8099b964",
   "metadata": {},
   "outputs": [],
   "source": [
    "prompt = \"What is the sentiment of the following text? Please respond with 5 if it is very positive', 4 if it is a bit positive, 3 if it is neutral, 2 if it is a bit negative or 1 if it is very negative'. ONLY ANSWER WITH A NON DECIMAL NUMBER. If the review only provides the number of the rating, return the number. If it is decimal, return the truncated number. If there is no text to perform sentiment analysis, answer with ONLY a random integer between 1 and 5. ALWAYS ANSWER WITH AN INTEGER BETWEEN 1 AND 5, NEVER USE TEXT.\"     \n",
    "\n",
    "data = sentiment_analysis_df[\"Review_Summaries\"].values\n",
    "predicted_sentiment_gpt = ChatGPTPrompting(prompt,data)\n",
    "\n",
    "real_ratings = sentiment_analysis_df_new[\"Rating\"].values\n",
    "predicted_ratings = []\n",
    "for response in predicted_sentiment_gpt:\n",
    "    try:\n",
    "        predicted_ratings.append(int(float(response)))\n",
    "    except:\n",
    "        predicted_ratings.append(random.randrange(1, 6))\n",
    "        continue"
   ]
  },
  {
   "cell_type": "markdown",
   "id": "71ec3ddc",
   "metadata": {},
   "source": [
    "Accuracy"
   ]
  },
  {
   "cell_type": "code",
   "execution_count": 268,
   "id": "31ed7cce",
   "metadata": {},
   "outputs": [
    {
     "name": "stdout",
     "output_type": "stream",
     "text": [
      "0.5699916177703269\n"
     ]
    }
   ],
   "source": [
    "Accuracy_Score(predicted_ratings,real_ratings)"
   ]
  },
  {
   "cell_type": "markdown",
   "id": "469221a6",
   "metadata": {},
   "source": [
    "Correlation Coefficients"
   ]
  },
  {
   "cell_type": "code",
   "execution_count": 269,
   "id": "cc7aad17",
   "metadata": {},
   "outputs": [
    {
     "name": "stdout",
     "output_type": "stream",
     "text": [
      "Spearman Rank Order Correlation Coefficient (SROCC): 0.799787761450642\n",
      "Pearson Linear Correlation Coefficient (PLCC): 0.808000008440343\n"
     ]
    }
   ],
   "source": [
    "srocc, _ = spearmanr(predicted_ratings, real_ratings)\n",
    "print(\"Spearman Rank Order Correlation Coefficient (SROCC):\", srocc)\n",
    "\n",
    "\n",
    "# Pearson Linear Correlation Coefficient (PLCC)\n",
    "plcc, _ = pearsonr(predicted_ratings, real_ratings)\n",
    "print(\"Pearson Linear Correlation Coefficient (PLCC):\", plcc)\n"
   ]
  },
  {
   "cell_type": "markdown",
   "id": "290f3cba",
   "metadata": {},
   "source": [
    "Finally we look at the confusion matrix and the precision, recall and f1-score of each sentiment class"
   ]
  },
  {
   "cell_type": "code",
   "execution_count": 270,
   "id": "b118eaae",
   "metadata": {},
   "outputs": [
    {
     "name": "stdout",
     "output_type": "stream",
     "text": [
      "              precision    recall  f1-score   support\n",
      "\n",
      "           1       0.60      0.87      0.71       284\n",
      "           2       0.37      0.32      0.34       177\n",
      "           3       0.66      0.27      0.38       177\n",
      "           4       0.61      0.34      0.44       273\n",
      "           5       0.59      0.83      0.69       282\n",
      "\n",
      "    accuracy                           0.57      1193\n",
      "   macro avg       0.56      0.53      0.51      1193\n",
      "weighted avg       0.57      0.57      0.54      1193\n",
      "\n"
     ]
    },
    {
     "data": {
      "image/png": "[encoded data removed]",
      "text/plain": [
       "<Figure size 640x480 with 1 Axes>"
      ]
     },
     "metadata": {},
     "output_type": "display_data"
    }
   ],
   "source": [
    "conf_matrix = confusion_matrix(real_ratings, predicted_ratings)\n",
    "sns.heatmap(conf_matrix, annot=True, fmt='d', cmap='Blues', cbar=False)\n",
    "\n",
    "report = classification_report(real_ratings, predicted_ratings)\n",
    "print(report)"
   ]
  },
  {
   "cell_type": "markdown",
   "id": "f277055f",
   "metadata": {},
   "source": [
    "### Evaluating the summaries created and the results obtained through them"
   ]
  },
  {
   "cell_type": "markdown",
   "id": "d377367e",
   "metadata": {},
   "source": [
    "#### Analising the lengths of the summaries and their impact"
   ]
  },
  {
   "cell_type": "code",
   "execution_count": 271,
   "id": "8a5c7f62",
   "metadata": {},
   "outputs": [],
   "source": [
    "evaluation_dataset = sentiment_analysis_df.copy()\n",
    "evaluation_dataset[\"Prediction_VADER\"] = ratings\n",
    "evaluation_dataset[\"Prediction_GPT\"] = ratings_summaries\n",
    "evaluation_dataset.drop('Unnamed: 0', axis=1,inplace=True)\n"
   ]
  },
  {
   "cell_type": "markdown",
   "id": "62cf75e0",
   "metadata": {},
   "source": [
    "We first look at the distribution of the lengths of the summaries generated"
   ]
  },
  {
   "cell_type": "code",
   "execution_count": 272,
   "id": "c6762108",
   "metadata": {
    "scrolled": false
   },
   "outputs": [
    {
     "data": {
      "image/png": "[encoded data removed]",
      "text/plain": [
       "<Figure size 1000x600 with 1 Axes>"
      ]
     },
     "metadata": {},
     "output_type": "display_data"
    }
   ],
   "source": [
    "\n",
    "evaluation_dataset[\"Length_Summary\"] = evaluation_dataset['Review_Summaries'].str.len()\n",
    "\n",
    "# Plotting\n",
    "plt.figure(figsize=(10, 6))  # You can adjust the size of the figure\n",
    "plt.hist(evaluation_dataset[\"Length_Summary\"], bins=50, color='blue', edgecolor='black')  # Adjust the number of bins as needed\n",
    "plt.title('Distribution of Summary Lengths')\n",
    "plt.xlabel('Length of Summary')\n",
    "plt.ylabel('Frequency')\n",
    "\n",
    "# Show the plot\n",
    "plt.show()"
   ]
  },
  {
   "cell_type": "markdown",
   "id": "406654a0",
   "metadata": {},
   "source": [
    "We can see that most of the summaries are no longer than 800 words. Now it is time to look if it affects the length of the summary on the performance of our Sentiment Classifiers. Firts we compute how much the classification deviates from the actual rating given by that review."
   ]
  },
  {
   "cell_type": "code",
   "execution_count": 273,
   "id": "2c9ce8ed",
   "metadata": {},
   "outputs": [],
   "source": [
    "evaluation_dataset[\"Deviation_Correct_VADER\"] = abs(evaluation_dataset[\"Rating\"] - evaluation_dataset[\"Prediction_VADER\"])\n",
    "evaluation_dataset[\"Deviation_Correct_GPT\"] = abs(evaluation_dataset[\"Rating\"] - evaluation_dataset[\"Prediction_GPT\"])\n"
   ]
  },
  {
   "cell_type": "code",
   "execution_count": 274,
   "id": "89d00bb7",
   "metadata": {},
   "outputs": [
    {
     "data": {
      "image/png": "[encoded data removed]",
      "text/plain": [
       "<Figure size 1000x600 with 1 Axes>"
      ]
     },
     "metadata": {},
     "output_type": "display_data"
    }
   ],
   "source": [
    "custom_palette = [\"#4daf4a\", \"#1f4812\", '#483712', '#975124', '#d33a1b']\n",
    "# Plotting\n",
    "plt.figure(figsize=(10, 6))\n",
    "sns.histplot(data=evaluation_dataset, x='Length_Summary', hue='Deviation_Correct_VADER', multiple='dodge', shrink=0.8, palette=custom_palette)\n",
    "plt.title('Distribution of Summary Lengths by Difference on Prediction')\n",
    "plt.xlabel('Length of Summary')\n",
    "plt.ylabel('Frequency')\n",
    "\n",
    "# Show the plot\n",
    "plt.show()"
   ]
  },
  {
   "cell_type": "markdown",
   "id": "9283ecfd",
   "metadata": {},
   "source": [
    "In the case of the VADER sentiment classifier, we can see that it mostly deviates by 1 (most of the very positive are classified as positive and the very negative as negative, as we have seen in the confusion matrix). For the very long summaries and the very short summaries it seems to perform worse."
   ]
  },
  {
   "cell_type": "code",
   "execution_count": 275,
   "id": "f388d183",
   "metadata": {},
   "outputs": [
    {
     "data": {
      "image/png": "[encoded data removed]",
      "text/plain": [
       "<Figure size 1000x600 with 1 Axes>"
      ]
     },
     "metadata": {},
     "output_type": "display_data"
    }
   ],
   "source": [
    "# Plotting\n",
    "plt.figure(figsize=(10, 6))\n",
    "sns.histplot(data=evaluation_dataset, x='Length_Summary', hue='Deviation_Correct_GPT', multiple='dodge', shrink=0.8,palette=custom_palette)\n",
    "plt.title('Distribution of Summary Lengths by Difference on Prediction')\n",
    "plt.xlabel('Length of Summary')\n",
    "plt.ylabel('Frequency')\n",
    "\n",
    "# Show the plot\n",
    "plt.show()"
   ]
  },
  {
   "cell_type": "markdown",
   "id": "550da6de",
   "metadata": {},
   "source": [
    "We can see that predicts mostly correctly or deviating by 1. It seems to perform better in the strip between 350 and 900 characters."
   ]
  },
  {
   "cell_type": "markdown",
   "id": "f7ccbd3e",
   "metadata": {},
   "source": [
    "#### Analising the unigrams and bigrams of the summaries"
   ]
  },
  {
   "cell_type": "markdown",
   "id": "8260e64c",
   "metadata": {},
   "source": [
    "We have to preprocess and tokenize the summaries, and then join the tokens in order to form a text that can be vectorized"
   ]
  },
  {
   "cell_type": "code",
   "execution_count": 276,
   "id": "d13dc93f",
   "metadata": {},
   "outputs": [],
   "source": [
    "evaluation_dataset['Summaries_Preprocessed'] = [\" \".join(text_preprocesser(summary)) for summary in evaluation_dataset['Review_Summaries'].values]"
   ]
  },
  {
   "cell_type": "markdown",
   "id": "36d80960",
   "metadata": {},
   "source": [
    "#### UNIGRAMS"
   ]
  },
  {
   "cell_type": "code",
   "execution_count": 277,
   "id": "fdef7d62",
   "metadata": {},
   "outputs": [
    {
     "name": "stdout",
     "output_type": "stream",
     "text": [
      "Rating 5:\n",
      "  - book (score: 0.11)\n",
      "  - reviewer (score: 0.09)\n",
      "  - positive (score: 0.06)\n",
      "  - express (score: 0.05)\n",
      "  - character (score: 0.05)\n",
      "  - highly (score: 0.05)\n",
      "  - praise (score: 0.04)\n",
      "  - review (score: 0.04)\n",
      "  - love (score: 0.04)\n",
      "  - mention (score: 0.04)\n",
      "\n",
      "Rating 1:\n",
      "  - book (score: 0.11)\n",
      "  - reviewer (score: 0.09)\n",
      "  - negative (score: 0.09)\n",
      "  - sentiment (score: 0.07)\n",
      "  - express (score: 0.07)\n",
      "  - character (score: 0.05)\n",
      "  - criticize (score: 0.05)\n",
      "  - lack (score: 0.04)\n",
      "  - find (score: 0.04)\n",
      "  - strong (score: 0.04)\n",
      "\n",
      "Rating 3:\n",
      "  - book (score: 0.11)\n",
      "  - reviewer (score: 0.09)\n",
      "  - find (score: 0.06)\n",
      "  - character (score: 0.06)\n",
      "  - mention (score: 0.05)\n",
      "  - express (score: 0.05)\n",
      "  - feel (score: 0.05)\n",
      "  - sentiment (score: 0.04)\n",
      "  - review (score: 0.03)\n",
      "  - lack (score: 0.03)\n",
      "\n",
      "Rating 4:\n",
      "  - book (score: 0.10)\n",
      "  - reviewer (score: 0.09)\n",
      "  - positive (score: 0.06)\n",
      "  - character (score: 0.04)\n",
      "  - mention (score: 0.04)\n",
      "  - express (score: 0.04)\n",
      "  - author (score: 0.04)\n",
      "  - read (score: 0.04)\n",
      "  - sentiment (score: 0.04)\n",
      "  - story (score: 0.03)\n",
      "\n",
      "Rating 2:\n",
      "  - book (score: 0.11)\n",
      "  - reviewer (score: 0.09)\n",
      "  - negative (score: 0.07)\n",
      "  - express (score: 0.06)\n",
      "  - sentiment (score: 0.05)\n",
      "  - find (score: 0.05)\n",
      "  - character (score: 0.05)\n",
      "  - criticize (score: 0.04)\n",
      "  - feel (score: 0.04)\n",
      "  - disappointment (score: 0.04)\n",
      "\n"
     ]
    }
   ],
   "source": [
    "# Compute TF-IDF for unigrams and bigrams\n",
    "vectorizer = TfidfVectorizer(ngram_range=(1,1))\n",
    "tfidf_matrix = vectorizer.fit_transform(evaluation_dataset['Summaries_Preprocessed'])\n",
    "feature_names = vectorizer.get_feature_names_out()\n",
    "\n",
    "# Extract most relevant features for each rating\n",
    "top_n = 10  # Number of top features to extract for each rating\n",
    "rating_keywords = defaultdict(list)\n",
    "\n",
    "for rating in evaluation_dataset['Rating'].unique():\n",
    "    indices = evaluation_dataset[evaluation_dataset['Rating'] == rating].index\n",
    "    \n",
    "    average_tfidf = np.ravel(tfidf_matrix[indices].mean(axis=0))\n",
    "    sorted_indices = average_tfidf.argsort()[::-1]\n",
    "    top_features = [(feature_names[i], average_tfidf[i]) for i in sorted_indices[:top_n]]\n",
    "    rating_keywords[rating].extend(top_features)\n",
    "\n",
    "# Print the most relevant words and bigrams for each rating\n",
    "for rating, features in rating_keywords.items():\n",
    "    print(f\"Rating {rating}:\")\n",
    "    for feature, score in features:\n",
    "        print(f\"  - {feature} (score: {score:.2f})\")\n",
    "    print()"
   ]
  },
  {
   "cell_type": "markdown",
   "id": "8ace6166",
   "metadata": {},
   "source": [
    "We can see that for the unigrams, the most relevant words are very similar between each class. We can see that the words positive and negative appear in both of the expected classes. Given the similarities between the words, it can make sense why the VADER classifier barely differentiates between the very positive and the positive and the very negative and negative."
   ]
  },
  {
   "cell_type": "markdown",
   "id": "a32c59bf",
   "metadata": {},
   "source": [
    "#### BIGRAMS"
   ]
  },
  {
   "cell_type": "code",
   "execution_count": 278,
   "id": "bbc25e21",
   "metadata": {},
   "outputs": [
    {
     "name": "stdout",
     "output_type": "stream",
     "text": [
      "Rating 5:\n",
      "  - positive sentiment (score: 0.03)\n",
      "  - reviewer express (score: 0.03)\n",
      "  - sentiment book (score: 0.02)\n",
      "  - highly recommend (score: 0.02)\n",
      "  - express positive (score: 0.02)\n",
      "  - recommend book (score: 0.02)\n",
      "  - review reviewer (score: 0.01)\n",
      "  - book describe (score: 0.01)\n",
      "  - highly positive (score: 0.01)\n",
      "  - book review (score: 0.01)\n",
      "\n",
      "Rating 1:\n",
      "  - negative sentiment (score: 0.05)\n",
      "  - sentiment book (score: 0.04)\n",
      "  - express negative (score: 0.04)\n",
      "  - reviewer express (score: 0.04)\n",
      "  - express strong (score: 0.02)\n",
      "  - strong negative (score: 0.02)\n",
      "  - book describe (score: 0.02)\n",
      "  - book suggest (score: 0.01)\n",
      "  - book review (score: 0.01)\n",
      "  - review reviewer (score: 0.01)\n",
      "\n",
      "Rating 3:\n",
      "  - reviewer express (score: 0.02)\n",
      "  - sentiment book (score: 0.02)\n",
      "  - review reviewer (score: 0.02)\n",
      "  - express negative (score: 0.01)\n",
      "  - book review (score: 0.01)\n",
      "  - negative sentiment (score: 0.01)\n",
      "  - reviewer find (score: 0.01)\n",
      "  - mixed feeling (score: 0.01)\n",
      "  - main character (score: 0.01)\n",
      "  - reviewer mention (score: 0.01)\n",
      "\n",
      "Rating 4:\n",
      "  - positive sentiment (score: 0.03)\n",
      "  - reviewer express (score: 0.02)\n",
      "  - express positive (score: 0.02)\n",
      "  - sentiment book (score: 0.02)\n",
      "  - overall reviewer (score: 0.01)\n",
      "  - review reviewer (score: 0.01)\n",
      "  - main character (score: 0.01)\n",
      "  - reviewer mention (score: 0.01)\n",
      "  - find book (score: 0.01)\n",
      "  - reviewer praise (score: 0.01)\n",
      "\n",
      "Rating 2:\n",
      "  - negative sentiment (score: 0.04)\n",
      "  - express negative (score: 0.04)\n",
      "  - sentiment book (score: 0.04)\n",
      "  - reviewer express (score: 0.03)\n",
      "  - express disappointment (score: 0.02)\n",
      "  - reviewer find (score: 0.02)\n",
      "  - book review (score: 0.01)\n",
      "  - book state (score: 0.01)\n",
      "  - disappointment book (score: 0.01)\n",
      "  - main character (score: 0.01)\n",
      "\n"
     ]
    }
   ],
   "source": [
    "vectorizer = TfidfVectorizer(ngram_range=(2,2))\n",
    "tfidf_matrix = vectorizer.fit_transform(evaluation_dataset['Summaries_Preprocessed'])\n",
    "feature_names = vectorizer.get_feature_names_out()\n",
    "\n",
    "# Extract most relevant features for each rating\n",
    "top_n = 10  # Number of top features to extract for each rating\n",
    "rating_keywords = defaultdict(list)\n",
    "\n",
    "for rating in evaluation_dataset['Rating'].unique():\n",
    "    indices = evaluation_dataset[evaluation_dataset['Rating'] == rating].index\n",
    "    \n",
    "    average_tfidf = np.ravel(tfidf_matrix[indices].mean(axis=0))\n",
    "    sorted_indices = average_tfidf.argsort()[::-1]\n",
    "    top_features = [(feature_names[i], average_tfidf[i]) for i in sorted_indices[:top_n]]\n",
    "    rating_keywords[rating].extend(top_features)\n",
    "\n",
    "# Print the most relevant words and bigrams for each rating\n",
    "for rating, features in rating_keywords.items():\n",
    "    print(f\"Rating {rating}:\")\n",
    "    for feature, score in features:\n",
    "        print(f\"  - {feature} (score: {score:.2f})\")\n",
    "    print()"
   ]
  },
  {
   "cell_type": "markdown",
   "id": "aec04b82",
   "metadata": {},
   "source": [
    "The bigrams help differentiate a bit more between classes, and it shows that the large language model has created pretty good summaries. Nonetheless, we can see repeated bigrams between classes, so in order to improve our summaries we could take into consideration those results when making the prompt."
   ]
  }
 ],
 "metadata": {
  "kernelspec": {
   "display_name": "Python 3 (ipykernel)",
   "language": "python",
   "name": "python3"
  },
  "language_info": {
   "codemirror_mode": {
    "name": "ipython",
    "version": 3
   },
   "file_extension": ".py",
   "mimetype": "text/x-python",
   "name": "python",
   "nbconvert_exporter": "python",
   "pygments_lexer": "ipython3",
   "version": "3.10.9"
  }
 },
 "nbformat": 4,
 "nbformat_minor": 5
}
